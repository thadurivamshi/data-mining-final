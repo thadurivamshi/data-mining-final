{
 "cells": [
  {
   "cell_type": "markdown",
   "metadata": {},
   "source": [
    "# Music recommender system\n",
    "\n",
    "One of the most used machine learning algorithms is recommendation systems. A **recommender** (or recommendation) **system** (or engine) is a filtering system which aim is to predict a rating or preference a user would give to an item, eg. a film, a product, a song, etc.\n",
    "\n",
    "Which type of recommender can we have?   \n",
    "\n",
    "There are two main types of recommender systems: \n",
    "- Content-based filters\n",
    "- Collaborative filters\n",
    "  \n",
    "> Content-based filters predicts what a user likes based on what that particular user has liked in the past. On the other hand, collaborative-based filters predict what a user like based on what other users, that are similar to that particular user, have liked.\n",
    "\n",
    "We have previously developed a content-based recommendation system. Now, we'll look into collaborative filtering. \n",
    "\n",
    "### 2) Collaborative filters\n",
    "\n",
    "Collaborative Filters work with an interaction matrix, also called rating matrix. The aim of this algorithm is to learn a function that can predict if a user will benefit from an item - meaning the user will likely buy, listen to, watch this item.\n",
    "\n",
    "Among collaborative-based systems, we can encounter two types: **user-item** filtering and **item-item** filtering. \n",
    "\n",
    "*What algorithms do collaborative filters use to recommend new songs?* There are several machine learning algorithms that can be used in the case of collaborative filtering. Among them, we can mention nearest-neighbor, clustering, and matrix factorization.\n",
    "\n",
    "**K-Nearest Neighbors (kNN)** is considered the standard method when it comes to both user-based and item-based collaborative filtering approaches.\n",
    "  \n",
    "We'll go through the steps for generating a music recommender system using a k-nearest algorithm approach."
   ]
  },
  {
   "cell_type": "markdown",
   "metadata": {},
   "source": [
    "### Importing required libraries"
   ]
  },
  {
   "cell_type": "markdown",
   "metadata": {},
   "source": [
    "First, we'll import all the required libraries."
   ]
  },
  {
   "cell_type": "code",
   "execution_count": 51,
   "metadata": {},
   "outputs": [],
   "source": [
    "import warnings\n",
    "warnings.filterwarnings(\"ignore\", category=FutureWarning)"
   ]
  },
  {
   "cell_type": "code",
   "execution_count": 52,
   "metadata": {},
   "outputs": [],
   "source": [
    "import pandas as pd\n",
    "import numpy as np\n",
    "import matplotlib.pyplot as plt\n",
    "import seaborn as sns"
   ]
  },
  {
   "cell_type": "code",
   "execution_count": 53,
   "metadata": {},
   "outputs": [],
   "source": [
    "from scipy.sparse import csr_matrix"
   ]
  },
  {
   "cell_type": "code",
   "execution_count": 54,
   "metadata": {},
   "outputs": [],
   "source": [
    "from sklearn.neighbors import NearestNeighbors\n",
    "from fuzzywuzzy import fuzz\n",
    "import numpy as np\n",
    "\n",
    "class Recommender:\n",
    "    def __init__(self, metric, algorithm, k, data, decode_id_song):\n",
    "        self.metric = metric\n",
    "        self.algorithm = algorithm\n",
    "        self.k = k\n",
    "        self.data = data\n",
    "        self.decode_id_song = decode_id_song\n",
    "        self.data = data\n",
    "        self.model = self._recommender().fit(data)\n",
    "    \n",
    "    def make_recommendation(self, new_song, n_recommendations):\n",
    "        recommended = self._recommend(new_song=new_song, n_recommendations=n_recommendations)\n",
    "        print(\"... Done\")\n",
    "        return recommended \n",
    "    \n",
    "    def _recommender(self):\n",
    "        return NearestNeighbors(metric=self.metric, algorithm=self.algorithm, n_neighbors=self.k, n_jobs=-1)\n",
    "    \n",
    "    def _recommend(self, new_song, n_recommendations):\n",
    "        # Get the id of the recommended songs\n",
    "        recommendations = []\n",
    "        recommendation_ids = self._get_recommendations(new_song=new_song, n_recommendations=n_recommendations)\n",
    "        # return the name of the song using a mapping dictionary\n",
    "        recommendations_map = self._map_indeces_to_song_title(recommendation_ids)\n",
    "        # Translate this recommendations into the ranking of song titles recommended\n",
    "        for i, (idx, dist) in enumerate(recommendation_ids):\n",
    "            recommendations.append(recommendations_map[idx])\n",
    "        return recommendations\n",
    "                 \n",
    "    def _get_recommendations(self, new_song, n_recommendations):\n",
    "        # Get the id of the song according to the text\n",
    "        recom_song_id = self._fuzzy_matching(song=new_song)\n",
    "        # Start the recommendation process\n",
    "        print(f\"Starting the recommendation process for {new_song} ...\")\n",
    "        # Return the n neighbors for the song id\n",
    "        distances, indices = self.model.kneighbors(self.data[recom_song_id], n_neighbors=n_recommendations+1)\n",
    "        return sorted(list(zip(indices.squeeze().tolist(), distances.squeeze().tolist())), key=lambda x: x[1])[:0:-1]\n",
    "    \n",
    "    def _map_indeces_to_song_title(self, recommendation_ids):\n",
    "        # get reverse mapper\n",
    "        return {song_id: song_title for song_title, song_id in self.decode_id_song.items()}\n",
    "    \n",
    "    def _fuzzy_matching(self, song):\n",
    "        match_tuple = []\n",
    "        # get match\n",
    "        for title, idx in self.decode_id_song.items():\n",
    "            ratio = fuzz.ratio(title.lower(), song.lower())\n",
    "            if ratio >= 60:\n",
    "                match_tuple.append((title, idx, ratio))\n",
    "        # sort\n",
    "        match_tuple = sorted(match_tuple, key=lambda x: x[2])[::-1]\n",
    "        if not match_tuple:\n",
    "            print(f\"The recommendation system could not find a match for {song}\")\n",
    "            return\n",
    "        return match_tuple[0][1]"
   ]
  },
  {
   "cell_type": "markdown",
   "metadata": {},
   "source": [
    "### Reading the files"
   ]
  },
  {
   "cell_type": "markdown",
   "metadata": {},
   "source": [
    "We are going to use the **[Million Song Dataset](http://millionsongdataset.com/)**, a freely-available collection of audio features and metadata for a million contemporary popular music tracks. "
   ]
  },
  {
   "cell_type": "markdown",
   "metadata": {},
   "source": [
    "There are two files that will be interesting for us. The first of them will give us information about the songs. Particularly, it contains the user ID, song ID and the listen count. On the other hand, the second file will contain song ID, title of that song, release, artist name and year. \n",
    "We need to merge these two DataFrames. For that aim, we'll use the `song_ID` "
   ]
  },
  {
   "cell_type": "code",
   "execution_count": 55,
   "metadata": {},
   "outputs": [],
   "source": [
    "#Read userid-songid-listen_count\n",
    "song_info = pd.read_csv('10000.txt',sep='\\t',header=None)\n",
    "song_info.columns = ['user_id', 'song_id', 'listen_count']\n",
    "\n",
    "#Read song  metadata\n",
    "song_actual =  pd.read_csv('song_data.csv')\n",
    "song_actual.drop_duplicates(['song_id'], inplace=True)\n",
    "\n",
    "#Merge the two dataframes above to create input dataframe for recommender systems\n",
    "songs = pd.merge(song_info, song_actual, on=\"song_id\", how=\"left\")"
   ]
  },
  {
   "cell_type": "code",
   "execution_count": 56,
   "metadata": {},
   "outputs": [
    {
     "data": {
      "text/html": [
       "<div>\n",
       "<style scoped>\n",
       "    .dataframe tbody tr th:only-of-type {\n",
       "        vertical-align: middle;\n",
       "    }\n",
       "\n",
       "    .dataframe tbody tr th {\n",
       "        vertical-align: top;\n",
       "    }\n",
       "\n",
       "    .dataframe thead th {\n",
       "        text-align: right;\n",
       "    }\n",
       "</style>\n",
       "<table border=\"1\" class=\"dataframe\">\n",
       "  <thead>\n",
       "    <tr style=\"text-align: right;\">\n",
       "      <th></th>\n",
       "      <th>user_id</th>\n",
       "      <th>song_id</th>\n",
       "      <th>listen_count</th>\n",
       "      <th>title</th>\n",
       "      <th>release</th>\n",
       "      <th>artist_name</th>\n",
       "      <th>year</th>\n",
       "    </tr>\n",
       "  </thead>\n",
       "  <tbody>\n",
       "    <tr>\n",
       "      <th>0</th>\n",
       "      <td>b80344d063b5ccb3212f76538f3d9e43d87dca9e</td>\n",
       "      <td>SOAKIMP12A8C130995</td>\n",
       "      <td>1</td>\n",
       "      <td>The Cove</td>\n",
       "      <td>Thicker Than Water</td>\n",
       "      <td>Jack Johnson</td>\n",
       "      <td>0</td>\n",
       "    </tr>\n",
       "    <tr>\n",
       "      <th>1</th>\n",
       "      <td>b80344d063b5ccb3212f76538f3d9e43d87dca9e</td>\n",
       "      <td>SOBBMDR12A8C13253B</td>\n",
       "      <td>2</td>\n",
       "      <td>Entre Dos Aguas</td>\n",
       "      <td>Flamenco Para Niños</td>\n",
       "      <td>Paco De Lucia</td>\n",
       "      <td>1976</td>\n",
       "    </tr>\n",
       "    <tr>\n",
       "      <th>2</th>\n",
       "      <td>b80344d063b5ccb3212f76538f3d9e43d87dca9e</td>\n",
       "      <td>SOBXHDL12A81C204C0</td>\n",
       "      <td>1</td>\n",
       "      <td>Stronger</td>\n",
       "      <td>Graduation</td>\n",
       "      <td>Kanye West</td>\n",
       "      <td>2007</td>\n",
       "    </tr>\n",
       "    <tr>\n",
       "      <th>3</th>\n",
       "      <td>b80344d063b5ccb3212f76538f3d9e43d87dca9e</td>\n",
       "      <td>SOBYHAJ12A6701BF1D</td>\n",
       "      <td>1</td>\n",
       "      <td>Constellations</td>\n",
       "      <td>In Between Dreams</td>\n",
       "      <td>Jack Johnson</td>\n",
       "      <td>2005</td>\n",
       "    </tr>\n",
       "    <tr>\n",
       "      <th>4</th>\n",
       "      <td>b80344d063b5ccb3212f76538f3d9e43d87dca9e</td>\n",
       "      <td>SODACBL12A8C13C273</td>\n",
       "      <td>1</td>\n",
       "      <td>Learn To Fly</td>\n",
       "      <td>There Is Nothing Left To Lose</td>\n",
       "      <td>Foo Fighters</td>\n",
       "      <td>1999</td>\n",
       "    </tr>\n",
       "  </tbody>\n",
       "</table>\n",
       "</div>"
      ],
      "text/plain": [
       "                                    user_id             song_id  listen_count  \\\n",
       "0  b80344d063b5ccb3212f76538f3d9e43d87dca9e  SOAKIMP12A8C130995             1   \n",
       "1  b80344d063b5ccb3212f76538f3d9e43d87dca9e  SOBBMDR12A8C13253B             2   \n",
       "2  b80344d063b5ccb3212f76538f3d9e43d87dca9e  SOBXHDL12A81C204C0             1   \n",
       "3  b80344d063b5ccb3212f76538f3d9e43d87dca9e  SOBYHAJ12A6701BF1D             1   \n",
       "4  b80344d063b5ccb3212f76538f3d9e43d87dca9e  SODACBL12A8C13C273             1   \n",
       "\n",
       "             title                        release    artist_name  year  \n",
       "0         The Cove             Thicker Than Water   Jack Johnson     0  \n",
       "1  Entre Dos Aguas            Flamenco Para Niños  Paco De Lucia  1976  \n",
       "2         Stronger                     Graduation     Kanye West  2007  \n",
       "3   Constellations              In Between Dreams   Jack Johnson  2005  \n",
       "4     Learn To Fly  There Is Nothing Left To Lose   Foo Fighters  1999  "
      ]
     },
     "execution_count": 56,
     "metadata": {},
     "output_type": "execute_result"
    }
   ],
   "source": [
    "songs.head()"
   ]
  },
  {
   "cell_type": "markdown",
   "metadata": {},
   "source": [
    "We'll save this dataset into a `csv file` so we have this available if there is any other recommendation system project we want to do."
   ]
  },
  {
   "cell_type": "code",
   "execution_count": 57,
   "metadata": {},
   "outputs": [],
   "source": [
    "songs.to_csv('songs.csv', index=False)"
   ]
  },
  {
   "cell_type": "markdown",
   "metadata": {},
   "source": [
    "We can read this file into a new **DataFrame** that we'd call `df_songs`."
   ]
  },
  {
   "cell_type": "code",
   "execution_count": 58,
   "metadata": {},
   "outputs": [],
   "source": [
    "df_songs = pd.read_csv('songs.csv')"
   ]
  },
  {
   "cell_type": "markdown",
   "metadata": {},
   "source": [
    "## Exploring the data"
   ]
  },
  {
   "cell_type": "markdown",
   "metadata": {},
   "source": [
    "As usual, any data science or machine learning project starts with an exploratory data analysis (EDA). The aim of EDA is to understand and get insights on our data."
   ]
  },
  {
   "cell_type": "markdown",
   "metadata": {},
   "source": [
    "We'll first inspect the first rows of our `DataFrame`."
   ]
  },
  {
   "cell_type": "code",
   "execution_count": 59,
   "metadata": {},
   "outputs": [
    {
     "data": {
      "text/html": [
       "<div>\n",
       "<style scoped>\n",
       "    .dataframe tbody tr th:only-of-type {\n",
       "        vertical-align: middle;\n",
       "    }\n",
       "\n",
       "    .dataframe tbody tr th {\n",
       "        vertical-align: top;\n",
       "    }\n",
       "\n",
       "    .dataframe thead th {\n",
       "        text-align: right;\n",
       "    }\n",
       "</style>\n",
       "<table border=\"1\" class=\"dataframe\">\n",
       "  <thead>\n",
       "    <tr style=\"text-align: right;\">\n",
       "      <th></th>\n",
       "      <th>user_id</th>\n",
       "      <th>song_id</th>\n",
       "      <th>listen_count</th>\n",
       "      <th>title</th>\n",
       "      <th>release</th>\n",
       "      <th>artist_name</th>\n",
       "      <th>year</th>\n",
       "    </tr>\n",
       "  </thead>\n",
       "  <tbody>\n",
       "    <tr>\n",
       "      <th>0</th>\n",
       "      <td>b80344d063b5ccb3212f76538f3d9e43d87dca9e</td>\n",
       "      <td>SOAKIMP12A8C130995</td>\n",
       "      <td>1</td>\n",
       "      <td>The Cove</td>\n",
       "      <td>Thicker Than Water</td>\n",
       "      <td>Jack Johnson</td>\n",
       "      <td>0</td>\n",
       "    </tr>\n",
       "    <tr>\n",
       "      <th>1</th>\n",
       "      <td>b80344d063b5ccb3212f76538f3d9e43d87dca9e</td>\n",
       "      <td>SOBBMDR12A8C13253B</td>\n",
       "      <td>2</td>\n",
       "      <td>Entre Dos Aguas</td>\n",
       "      <td>Flamenco Para Niños</td>\n",
       "      <td>Paco De Lucia</td>\n",
       "      <td>1976</td>\n",
       "    </tr>\n",
       "    <tr>\n",
       "      <th>2</th>\n",
       "      <td>b80344d063b5ccb3212f76538f3d9e43d87dca9e</td>\n",
       "      <td>SOBXHDL12A81C204C0</td>\n",
       "      <td>1</td>\n",
       "      <td>Stronger</td>\n",
       "      <td>Graduation</td>\n",
       "      <td>Kanye West</td>\n",
       "      <td>2007</td>\n",
       "    </tr>\n",
       "    <tr>\n",
       "      <th>3</th>\n",
       "      <td>b80344d063b5ccb3212f76538f3d9e43d87dca9e</td>\n",
       "      <td>SOBYHAJ12A6701BF1D</td>\n",
       "      <td>1</td>\n",
       "      <td>Constellations</td>\n",
       "      <td>In Between Dreams</td>\n",
       "      <td>Jack Johnson</td>\n",
       "      <td>2005</td>\n",
       "    </tr>\n",
       "    <tr>\n",
       "      <th>4</th>\n",
       "      <td>b80344d063b5ccb3212f76538f3d9e43d87dca9e</td>\n",
       "      <td>SODACBL12A8C13C273</td>\n",
       "      <td>1</td>\n",
       "      <td>Learn To Fly</td>\n",
       "      <td>There Is Nothing Left To Lose</td>\n",
       "      <td>Foo Fighters</td>\n",
       "      <td>1999</td>\n",
       "    </tr>\n",
       "  </tbody>\n",
       "</table>\n",
       "</div>"
      ],
      "text/plain": [
       "                                    user_id             song_id  listen_count  \\\n",
       "0  b80344d063b5ccb3212f76538f3d9e43d87dca9e  SOAKIMP12A8C130995             1   \n",
       "1  b80344d063b5ccb3212f76538f3d9e43d87dca9e  SOBBMDR12A8C13253B             2   \n",
       "2  b80344d063b5ccb3212f76538f3d9e43d87dca9e  SOBXHDL12A81C204C0             1   \n",
       "3  b80344d063b5ccb3212f76538f3d9e43d87dca9e  SOBYHAJ12A6701BF1D             1   \n",
       "4  b80344d063b5ccb3212f76538f3d9e43d87dca9e  SODACBL12A8C13C273             1   \n",
       "\n",
       "             title                        release    artist_name  year  \n",
       "0         The Cove             Thicker Than Water   Jack Johnson     0  \n",
       "1  Entre Dos Aguas            Flamenco Para Niños  Paco De Lucia  1976  \n",
       "2         Stronger                     Graduation     Kanye West  2007  \n",
       "3   Constellations              In Between Dreams   Jack Johnson  2005  \n",
       "4     Learn To Fly  There Is Nothing Left To Lose   Foo Fighters  1999  "
      ]
     },
     "execution_count": 59,
     "metadata": {},
     "output_type": "execute_result"
    }
   ],
   "source": [
    "df_songs.head()"
   ]
  },
  {
   "cell_type": "markdown",
   "metadata": {},
   "source": [
    "Then, we'll check how many observions there are in the dataset."
   ]
  },
  {
   "cell_type": "code",
   "execution_count": 60,
   "metadata": {},
   "outputs": [
    {
     "name": "stdout",
     "output_type": "stream",
     "text": [
      "There are 2000000 observations in the dataset\n"
     ]
    }
   ],
   "source": [
    "#Get total observations\n",
    "print(f\"There are {df_songs.shape[0]} observations in the dataset\")"
   ]
  },
  {
   "cell_type": "markdown",
   "metadata": {},
   "source": [
    "Now, we should perform some cleaning steps. But looking at the dataset, we can see that there is no missing values."
   ]
  },
  {
   "cell_type": "code",
   "execution_count": 61,
   "metadata": {},
   "outputs": [
    {
     "data": {
      "text/plain": [
       "user_id         0\n",
       "song_id         0\n",
       "listen_count    0\n",
       "title           0\n",
       "release         0\n",
       "artist_name     0\n",
       "year            0\n",
       "dtype: int64"
      ]
     },
     "execution_count": 61,
     "metadata": {},
     "output_type": "execute_result"
    }
   ],
   "source": [
    "df_songs.isnull().sum()"
   ]
  },
  {
   "cell_type": "markdown",
   "metadata": {},
   "source": [
    "And most of the columns contain strings."
   ]
  },
  {
   "cell_type": "code",
   "execution_count": 62,
   "metadata": {},
   "outputs": [
    {
     "data": {
      "text/plain": [
       "user_id         object\n",
       "song_id         object\n",
       "listen_count     int64\n",
       "title           object\n",
       "release         object\n",
       "artist_name     object\n",
       "year             int64\n",
       "dtype: object"
      ]
     },
     "execution_count": 62,
     "metadata": {},
     "output_type": "execute_result"
    }
   ],
   "source": [
    "df_songs.dtypes"
   ]
  },
  {
   "cell_type": "markdown",
   "metadata": {},
   "source": [
    "Let's start exploring some characteristics of the dataset: \n",
    "\n",
    "- Unique songs:"
   ]
  },
  {
   "cell_type": "code",
   "execution_count": 63,
   "metadata": {},
   "outputs": [
    {
     "name": "stdout",
     "output_type": "stream",
     "text": [
      "There are 9567 unique songs in the dataset\n"
     ]
    }
   ],
   "source": [
    "#Unique songs\n",
    "unique_songs = df_songs['title'].unique().shape[0]\n",
    "print(f\"There are {unique_songs} unique songs in the dataset\")"
   ]
  },
  {
   "cell_type": "markdown",
   "metadata": {},
   "source": [
    "- Unique artists:"
   ]
  },
  {
   "cell_type": "code",
   "execution_count": 64,
   "metadata": {},
   "outputs": [
    {
     "name": "stdout",
     "output_type": "stream",
     "text": [
      "There are 3375 unique artists in the dataset\n"
     ]
    }
   ],
   "source": [
    "#Unique artists\n",
    "unique_artists = df_songs['artist_name'].unique().shape[0]\n",
    "print(f\"There are {unique_artists} unique artists in the dataset\")"
   ]
  },
  {
   "cell_type": "markdown",
   "metadata": {},
   "source": [
    "- Unique users:"
   ]
  },
  {
   "cell_type": "code",
   "execution_count": 65,
   "metadata": {},
   "outputs": [
    {
     "name": "stdout",
     "output_type": "stream",
     "text": [
      "There are 76353 unique users in the dataset\n"
     ]
    }
   ],
   "source": [
    "#Unique users\n",
    "unique_users = df_songs['user_id'].unique().shape[0]\n",
    "print(f\"There are {unique_users} unique users in the dataset\")"
   ]
  },
  {
   "cell_type": "markdown",
   "metadata": {},
   "source": [
    "We'll go ahead and explore the popularity of songs and artists."
   ]
  },
  {
   "cell_type": "markdown",
   "metadata": {},
   "source": [
    "### Most popular songs"
   ]
  },
  {
   "cell_type": "markdown",
   "metadata": {},
   "source": [
    "How do we determine which are the most popular songs? For this task, we'll count how many times each song appears. Note that while we are using  `listen_count`, we only care about the number of rows, we don't consider the number present in that row. This number represents how many times one user listen to the same song."
   ]
  },
  {
   "cell_type": "code",
   "execution_count": 66,
   "metadata": {
    "scrolled": true
   },
   "outputs": [],
   "source": [
    "#count how many rows we have by song, we show only the ten more popular songs \n",
    "ten_pop_songs = df_songs.groupby('title')['listen_count'].count().reset_index().sort_values(['listen_count', 'title'], ascending = [0,1])\n",
    "ten_pop_songs['percentage']  = round(ten_pop_songs['listen_count'].div(ten_pop_songs['listen_count'].sum())*100, 2)"
   ]
  },
  {
   "cell_type": "code",
   "execution_count": 67,
   "metadata": {},
   "outputs": [
    {
     "data": {
      "text/html": [
       "<div>\n",
       "<style scoped>\n",
       "    .dataframe tbody tr th:only-of-type {\n",
       "        vertical-align: middle;\n",
       "    }\n",
       "\n",
       "    .dataframe tbody tr th {\n",
       "        vertical-align: top;\n",
       "    }\n",
       "\n",
       "    .dataframe thead th {\n",
       "        text-align: right;\n",
       "    }\n",
       "</style>\n",
       "<table border=\"1\" class=\"dataframe\">\n",
       "  <thead>\n",
       "    <tr style=\"text-align: right;\">\n",
       "      <th></th>\n",
       "      <th>title</th>\n",
       "      <th>listen_count</th>\n",
       "      <th>percentage</th>\n",
       "    </tr>\n",
       "  </thead>\n",
       "  <tbody>\n",
       "    <tr>\n",
       "      <th>6836</th>\n",
       "      <td>Sehr kosmisch</td>\n",
       "      <td>8277</td>\n",
       "      <td>0.41</td>\n",
       "    </tr>\n",
       "    <tr>\n",
       "      <th>8725</th>\n",
       "      <td>Undo</td>\n",
       "      <td>7032</td>\n",
       "      <td>0.35</td>\n",
       "    </tr>\n",
       "    <tr>\n",
       "      <th>1964</th>\n",
       "      <td>Dog Days Are Over (Radio Edit)</td>\n",
       "      <td>6949</td>\n",
       "      <td>0.35</td>\n",
       "    </tr>\n",
       "    <tr>\n",
       "      <th>9496</th>\n",
       "      <td>You're The One</td>\n",
       "      <td>6729</td>\n",
       "      <td>0.34</td>\n",
       "    </tr>\n",
       "    <tr>\n",
       "      <th>6498</th>\n",
       "      <td>Revelry</td>\n",
       "      <td>6145</td>\n",
       "      <td>0.31</td>\n",
       "    </tr>\n",
       "    <tr>\n",
       "      <th>6825</th>\n",
       "      <td>Secrets</td>\n",
       "      <td>5841</td>\n",
       "      <td>0.29</td>\n",
       "    </tr>\n",
       "    <tr>\n",
       "      <th>3437</th>\n",
       "      <td>Horn Concerto No. 4 in E flat K495: II. Romanc...</td>\n",
       "      <td>5385</td>\n",
       "      <td>0.27</td>\n",
       "    </tr>\n",
       "    <tr>\n",
       "      <th>2595</th>\n",
       "      <td>Fireflies</td>\n",
       "      <td>4795</td>\n",
       "      <td>0.24</td>\n",
       "    </tr>\n",
       "    <tr>\n",
       "      <th>3322</th>\n",
       "      <td>Hey_ Soul Sister</td>\n",
       "      <td>4758</td>\n",
       "      <td>0.24</td>\n",
       "    </tr>\n",
       "    <tr>\n",
       "      <th>8494</th>\n",
       "      <td>Tive Sim</td>\n",
       "      <td>4548</td>\n",
       "      <td>0.23</td>\n",
       "    </tr>\n",
       "  </tbody>\n",
       "</table>\n",
       "</div>"
      ],
      "text/plain": [
       "                                                  title  listen_count  \\\n",
       "6836                                      Sehr kosmisch          8277   \n",
       "8725                                               Undo          7032   \n",
       "1964                     Dog Days Are Over (Radio Edit)          6949   \n",
       "9496                                     You're The One          6729   \n",
       "6498                                            Revelry          6145   \n",
       "6825                                            Secrets          5841   \n",
       "3437  Horn Concerto No. 4 in E flat K495: II. Romanc...          5385   \n",
       "2595                                          Fireflies          4795   \n",
       "3322                                   Hey_ Soul Sister          4758   \n",
       "8494                                           Tive Sim          4548   \n",
       "\n",
       "      percentage  \n",
       "6836        0.41  \n",
       "8725        0.35  \n",
       "1964        0.35  \n",
       "9496        0.34  \n",
       "6498        0.31  \n",
       "6825        0.29  \n",
       "3437        0.27  \n",
       "2595        0.24  \n",
       "3322        0.24  \n",
       "8494        0.23  "
      ]
     },
     "execution_count": 67,
     "metadata": {},
     "output_type": "execute_result"
    }
   ],
   "source": [
    "ten_pop_songs = ten_pop_songs[:10]\n",
    "ten_pop_songs"
   ]
  },
  {
   "cell_type": "code",
   "execution_count": 68,
   "metadata": {},
   "outputs": [],
   "source": [
    "labels = ten_pop_songs['title'].tolist()\n",
    "counts = ten_pop_songs['listen_count'].tolist()"
   ]
  },
  {
   "cell_type": "code",
   "execution_count": 69,
   "metadata": {},
   "outputs": [
    {
     "data": {
      "image/png": "[encoded data removed]",
      "text/plain": [
       "<Figure size 432x288 with 1 Axes>"
      ]
     },
     "metadata": {
      "needs_background": "light"
     },
     "output_type": "display_data"
    }
   ],
   "source": [
    "plt.figure()\n",
    "sns.barplot(x=counts, y=labels, palette='Set3')\n",
    "sns.despine(left=True, bottom=True)"
   ]
  },
  {
   "cell_type": "markdown",
   "metadata": {},
   "source": [
    "### Most popular artist"
   ]
  },
  {
   "cell_type": "markdown",
   "metadata": {},
   "source": [
    "For the next task, we'll count how many times each artist appears. Again, we'll count how many times the same artist appears."
   ]
  },
  {
   "cell_type": "code",
   "execution_count": 70,
   "metadata": {},
   "outputs": [],
   "source": [
    "#count how many rows we have by artist name, we show only the ten more popular artist \n",
    "ten_pop_artists  = df_songs.groupby(['artist_name'])['listen_count'].count().reset_index().sort_values(['listen_count', 'artist_name'], \n",
    "                                                                                                ascending = [0,1])"
   ]
  },
  {
   "cell_type": "code",
   "execution_count": 71,
   "metadata": {},
   "outputs": [
    {
     "data": {
      "text/html": [
       "<div>\n",
       "<style scoped>\n",
       "    .dataframe tbody tr th:only-of-type {\n",
       "        vertical-align: middle;\n",
       "    }\n",
       "\n",
       "    .dataframe tbody tr th {\n",
       "        vertical-align: top;\n",
       "    }\n",
       "\n",
       "    .dataframe thead th {\n",
       "        text-align: right;\n",
       "    }\n",
       "</style>\n",
       "<table border=\"1\" class=\"dataframe\">\n",
       "  <thead>\n",
       "    <tr style=\"text-align: right;\">\n",
       "      <th></th>\n",
       "      <th>artist_name</th>\n",
       "      <th>listen_count</th>\n",
       "    </tr>\n",
       "  </thead>\n",
       "  <tbody>\n",
       "    <tr>\n",
       "      <th>649</th>\n",
       "      <td>Coldplay</td>\n",
       "      <td>29422</td>\n",
       "    </tr>\n",
       "    <tr>\n",
       "      <th>2850</th>\n",
       "      <td>The Black Keys</td>\n",
       "      <td>19862</td>\n",
       "    </tr>\n",
       "    <tr>\n",
       "      <th>1651</th>\n",
       "      <td>Kings Of Leon</td>\n",
       "      <td>18747</td>\n",
       "    </tr>\n",
       "    <tr>\n",
       "      <th>1107</th>\n",
       "      <td>Florence + The Machine</td>\n",
       "      <td>18112</td>\n",
       "    </tr>\n",
       "    <tr>\n",
       "      <th>1370</th>\n",
       "      <td>Jack Johnson</td>\n",
       "      <td>17801</td>\n",
       "    </tr>\n",
       "    <tr>\n",
       "      <th>2946</th>\n",
       "      <td>The Killers</td>\n",
       "      <td>16063</td>\n",
       "    </tr>\n",
       "    <tr>\n",
       "      <th>2374</th>\n",
       "      <td>Radiohead</td>\n",
       "      <td>14890</td>\n",
       "    </tr>\n",
       "    <tr>\n",
       "      <th>736</th>\n",
       "      <td>Daft Punk</td>\n",
       "      <td>14715</td>\n",
       "    </tr>\n",
       "    <tr>\n",
       "      <th>2073</th>\n",
       "      <td>Muse</td>\n",
       "      <td>14005</td>\n",
       "    </tr>\n",
       "    <tr>\n",
       "      <th>1554</th>\n",
       "      <td>Justin Bieber</td>\n",
       "      <td>13959</td>\n",
       "    </tr>\n",
       "  </tbody>\n",
       "</table>\n",
       "</div>"
      ],
      "text/plain": [
       "                 artist_name  listen_count\n",
       "649                 Coldplay         29422\n",
       "2850          The Black Keys         19862\n",
       "1651           Kings Of Leon         18747\n",
       "1107  Florence + The Machine         18112\n",
       "1370            Jack Johnson         17801\n",
       "2946             The Killers         16063\n",
       "2374               Radiohead         14890\n",
       "736                Daft Punk         14715\n",
       "2073                    Muse         14005\n",
       "1554           Justin Bieber         13959"
      ]
     },
     "execution_count": 71,
     "metadata": {},
     "output_type": "execute_result"
    }
   ],
   "source": [
    "ten_pop_artists = ten_pop_artists[:10]\n",
    "ten_pop_artists"
   ]
  },
  {
   "cell_type": "code",
   "execution_count": 72,
   "metadata": {},
   "outputs": [
    {
     "data": {
      "image/png": "[encoded data removed]",
      "text/plain": [
       "<Figure size 432x288 with 1 Axes>"
      ]
     },
     "metadata": {
      "needs_background": "light"
     },
     "output_type": "display_data"
    }
   ],
   "source": [
    "plt.figure()\n",
    "labels = ten_pop_artists['artist_name'].tolist()\n",
    "counts = ten_pop_artists['listen_count'].tolist()\n",
    "sns.barplot(x=counts, y=labels, palette='Set2')\n",
    "sns.despine(left=True, bottom=True)"
   ]
  },
  {
   "cell_type": "markdown",
   "metadata": {},
   "source": [
    "### Listen count by user"
   ]
  },
  {
   "cell_type": "markdown",
   "metadata": {},
   "source": [
    "We can also get some other information from the feature `listen_count`. We will answer the folloging questions:"
   ]
  },
  {
   "cell_type": "markdown",
   "metadata": {},
   "source": [
    "**What was the maximum time the same user listen to a same song?**"
   ]
  },
  {
   "cell_type": "code",
   "execution_count": 73,
   "metadata": {},
   "outputs": [],
   "source": [
    "listen_counts = pd.DataFrame(df_songs.groupby('listen_count').size(), columns=['count'])"
   ]
  },
  {
   "cell_type": "code",
   "execution_count": 74,
   "metadata": {},
   "outputs": [
    {
     "name": "stdout",
     "output_type": "stream",
     "text": [
      "The maximum time the same user listened to the same songs was: 2213\n"
     ]
    }
   ],
   "source": [
    "print(f\"The maximum time the same user listened to the same songs was: {listen_counts.reset_index(drop=False)['listen_count'].iloc[-1]}\")"
   ]
  },
  {
   "cell_type": "markdown",
   "metadata": {},
   "source": [
    "**How many times on average the same user listen to a same song?**"
   ]
  },
  {
   "cell_type": "code",
   "execution_count": 75,
   "metadata": {},
   "outputs": [
    {
     "name": "stdout",
     "output_type": "stream",
     "text": [
      "On average, a user listen to the same song 3.0454845 times\n"
     ]
    }
   ],
   "source": [
    "print(f\"On average, a user listen to the same song {df_songs['listen_count'].mean()} times\")"
   ]
  },
  {
   "cell_type": "markdown",
   "metadata": {},
   "source": [
    "We can also check the distribution of `listen_count`:"
   ]
  },
  {
   "cell_type": "code",
   "execution_count": 76,
   "metadata": {},
   "outputs": [
    {
     "data": {
      "image/png": "[encoded data removed]",
      "text/plain": [
       "<Figure size 1440x360 with 1 Axes>"
      ]
     },
     "metadata": {
      "needs_background": "light"
     },
     "output_type": "display_data"
    }
   ],
   "source": [
    "plt.figure(figsize=(20, 5))\n",
    "sns.boxplot(x='listen_count', data=df_songs)\n",
    "sns.despine()"
   ]
  },
  {
   "cell_type": "markdown",
   "metadata": {},
   "source": [
    "**What are the most frequent number of times a user listen to the same song?**"
   ]
  },
  {
   "cell_type": "code",
   "execution_count": 77,
   "metadata": {},
   "outputs": [],
   "source": [
    "listen_counts_temp = listen_counts[listen_counts['count'] > 50].reset_index(drop=False)"
   ]
  },
  {
   "cell_type": "code",
   "execution_count": 78,
   "metadata": {},
   "outputs": [
    {
     "data": {
      "image/png": "[encoded data removed]",
      "text/plain": [
       "<Figure size 1152x576 with 1 Axes>"
      ]
     },
     "metadata": {
      "needs_background": "light"
     },
     "output_type": "display_data"
    }
   ],
   "source": [
    "plt.figure(figsize=(16, 8))\n",
    "sns.barplot(x='listen_count', y='count', palette='Set3', data=listen_counts_temp)\n",
    "plt.gca().spines['top'].set_visible(False)\n",
    "plt.gca().spines['right'].set_visible(False)\n",
    "plt.show();"
   ]
  },
  {
   "cell_type": "markdown",
   "metadata": {},
   "source": [
    "**How many songs does a user listen in average?**"
   ]
  },
  {
   "cell_type": "code",
   "execution_count": 79,
   "metadata": {},
   "outputs": [],
   "source": [
    "song_user = df_songs.groupby('user_id')['song_id'].count()"
   ]
  },
  {
   "cell_type": "code",
   "execution_count": 80,
   "metadata": {},
   "outputs": [
    {
     "data": {
      "image/png": "[encoded data removed]",
      "text/plain": [
       "<Figure size 1152x576 with 1 Axes>"
      ]
     },
     "metadata": {
      "needs_background": "light"
     },
     "output_type": "display_data"
    }
   ],
   "source": [
    "plt.figure(figsize=(16, 8))\n",
    "sns.distplot(song_user.values, color='orange')\n",
    "plt.gca().spines['top'].set_visible(False)\n",
    "plt.gca().spines['right'].set_visible(False)\n",
    "plt.show();"
   ]
  },
  {
   "cell_type": "code",
   "execution_count": 81,
   "metadata": {},
   "outputs": [
    {
     "name": "stdout",
     "output_type": "stream",
     "text": [
      "A user listens to an average of 26.194124657839247 songs\n"
     ]
    }
   ],
   "source": [
    "print(f\"A user listens to an average of {np.mean(song_user)} songs\")"
   ]
  },
  {
   "cell_type": "code",
   "execution_count": 82,
   "metadata": {},
   "outputs": [
    {
     "name": "stdout",
     "output_type": "stream",
     "text": [
      "A user listens to an average of 16.0 songs, with minimum 1 and maximum 711 songs\n"
     ]
    }
   ],
   "source": [
    "print(f\"A user listens to an average of {np.median(song_user)} songs, with minimum {np.min(song_user)} and maximum {np.max(song_user)} songs\")"
   ]
  },
  {
   "cell_type": "markdown",
   "metadata": {},
   "source": [
    "We can see that a user listens in average to 27 songs. Even the maximum amount of songs listen by an user is 711, and we have 9567 songs in our dataset.\n",
    "\n",
    "So, not all user listen to all songs, so a lot of values in the `song x users` matrix are going to be zero. Thus, we’ll be dealing with extremely sparse data. \n",
    "\n",
    "*How sparse?* Let's check that:"
   ]
  },
  {
   "cell_type": "code",
   "execution_count": 83,
   "metadata": {},
   "outputs": [],
   "source": [
    "# Get how many values should it be if all songs have been listen by all users\n",
    "values_matrix = unique_users * unique_songs"
   ]
  },
  {
   "cell_type": "code",
   "execution_count": 84,
   "metadata": {},
   "outputs": [],
   "source": [
    "# Substract the total values with the actural shape of the DataFrame songs\n",
    "zero_values_matrix = values_matrix - df_songs.shape[0]"
   ]
  },
  {
   "cell_type": "code",
   "execution_count": 85,
   "metadata": {},
   "outputs": [
    {
     "name": "stdout",
     "output_type": "stream",
     "text": [
      "The matrix of users x songs has 728469151 values that are zero\n"
     ]
    }
   ],
   "source": [
    "print(f\"The matrix of users x songs has {zero_values_matrix} values that are zero\")"
   ]
  },
  {
   "cell_type": "markdown",
   "metadata": {},
   "source": [
    "Dealing with such a sparse matrix, we'll take a lot of memory and resources. To make our life easier, let's just select all those users that have listened to at least 16 songs. "
   ]
  },
  {
   "cell_type": "markdown",
   "metadata": {},
   "source": [
    "### Prepare the data"
   ]
  },
  {
   "cell_type": "code",
   "execution_count": 86,
   "metadata": {},
   "outputs": [],
   "source": [
    "# Get users which have listen to at least 16 songs\n",
    "song_ten_id = song_user[song_user > 16].index.to_list()"
   ]
  },
  {
   "cell_type": "code",
   "execution_count": 87,
   "metadata": {},
   "outputs": [],
   "source": [
    "# Filtered the dataset to keep only those users with more than 16 listened\n",
    "df_song_id_more_ten = df_songs[df_songs['user_id'].isin(song_ten_id)].reset_index(drop=True)"
   ]
  },
  {
   "cell_type": "markdown",
   "metadata": {},
   "source": [
    "We need now to work with a `scipy-sparse matrix` to avoid overflow and wasted memory. For that purpose, we'll use the `csr_matrix` function from `scipy.sparse`."
   ]
  },
  {
   "cell_type": "code",
   "execution_count": 88,
   "metadata": {},
   "outputs": [],
   "source": [
    "# convert the dataframe into a pivot table\n",
    "df_songs_features = df_song_id_more_ten.pivot(index='song_id', columns='user_id', values='listen_count').fillna(0)\n",
    "\n",
    "# obtain a sparse matrix\n",
    "mat_songs_features = csr_matrix(df_songs_features.values)"
   ]
  },
  {
   "cell_type": "markdown",
   "metadata": {},
   "source": [
    "Let's take a look at the table `user x song`."
   ]
  },
  {
   "cell_type": "code",
   "execution_count": 89,
   "metadata": {},
   "outputs": [
    {
     "data": {
      "text/html": [
       "<div>\n",
       "<style scoped>\n",
       "    .dataframe tbody tr th:only-of-type {\n",
       "        vertical-align: middle;\n",
       "    }\n",
       "\n",
       "    .dataframe tbody tr th {\n",
       "        vertical-align: top;\n",
       "    }\n",
       "\n",
       "    .dataframe thead th {\n",
       "        text-align: right;\n",
       "    }\n",
       "</style>\n",
       "<table border=\"1\" class=\"dataframe\">\n",
       "  <thead>\n",
       "    <tr style=\"text-align: right;\">\n",
       "      <th>user_id</th>\n",
       "      <th>000e2c2a8c7870ff9121f212b35c8b3a20cc0e67</th>\n",
       "      <th>000ebc858861aca26bac9b49f650ed424cf882fc</th>\n",
       "      <th>000ef25cc955ad5841c915d269432eea41f4a1a5</th>\n",
       "      <th>0012bf75d43a724f62dc746d9e85ae0088a3a1d6</th>\n",
       "      <th>001322829b5dc3edc59bf78189617ddd8f23c82a</th>\n",
       "      <th>00185e316f07f0f00c325ca034be59c15b362401</th>\n",
       "      <th>0019740e3e8c24e223a6f88e3faa7c144ec5a014</th>\n",
       "      <th>001b005fe5e80d3cb45f320f5658fc8e2e72794e</th>\n",
       "      <th>001f22c638730aed5659034c447d3cf0e658898e</th>\n",
       "      <th>0021d9a4628624f6d70237f9c200ab82e766bf26</th>\n",
       "      <th>...</th>\n",
       "      <th>fff300cd094fe04030b79fae550dc9d065190182</th>\n",
       "      <th>fff4676dacb2e9a7217702f62ee70e88aa512ecc</th>\n",
       "      <th>fff4e1a7dacbe9c13051c08f09bf66d76cbee35e</th>\n",
       "      <th>fff543db7918cb8f4f56f7470903eb2f1d5a6dd8</th>\n",
       "      <th>fff6c30c773e6ffafcac213c9afd9666afaf6d63</th>\n",
       "      <th>fffb701ee87a32eff67eb040ed59146121f01571</th>\n",
       "      <th>fffc0df75a48d823ad5abfaf2a1ee61eb1e3302c</th>\n",
       "      <th>fffce9c1537fbc350ea68823d956eaa8f5236dbe</th>\n",
       "      <th>fffd9635b33f412de8ed02e44e6564e3644cf3c6</th>\n",
       "      <th>fffea3d509760c984e7d40789804c0e5e289cc86</th>\n",
       "    </tr>\n",
       "    <tr>\n",
       "      <th>song_id</th>\n",
       "      <th></th>\n",
       "      <th></th>\n",
       "      <th></th>\n",
       "      <th></th>\n",
       "      <th></th>\n",
       "      <th></th>\n",
       "      <th></th>\n",
       "      <th></th>\n",
       "      <th></th>\n",
       "      <th></th>\n",
       "      <th></th>\n",
       "      <th></th>\n",
       "      <th></th>\n",
       "      <th></th>\n",
       "      <th></th>\n",
       "      <th></th>\n",
       "      <th></th>\n",
       "      <th></th>\n",
       "      <th></th>\n",
       "      <th></th>\n",
       "      <th></th>\n",
       "    </tr>\n",
       "  </thead>\n",
       "  <tbody>\n",
       "    <tr>\n",
       "      <th>SOAAAGQ12A8C1420C8</th>\n",
       "      <td>0.0</td>\n",
       "      <td>0.0</td>\n",
       "      <td>0.0</td>\n",
       "      <td>0.0</td>\n",
       "      <td>0.0</td>\n",
       "      <td>0.0</td>\n",
       "      <td>0.0</td>\n",
       "      <td>0.0</td>\n",
       "      <td>0.0</td>\n",
       "      <td>0.0</td>\n",
       "      <td>...</td>\n",
       "      <td>0.0</td>\n",
       "      <td>0.0</td>\n",
       "      <td>0.0</td>\n",
       "      <td>0.0</td>\n",
       "      <td>0.0</td>\n",
       "      <td>0.0</td>\n",
       "      <td>0.0</td>\n",
       "      <td>0.0</td>\n",
       "      <td>0.0</td>\n",
       "      <td>0.0</td>\n",
       "    </tr>\n",
       "    <tr>\n",
       "      <th>SOAACPJ12A81C21360</th>\n",
       "      <td>0.0</td>\n",
       "      <td>0.0</td>\n",
       "      <td>0.0</td>\n",
       "      <td>0.0</td>\n",
       "      <td>0.0</td>\n",
       "      <td>0.0</td>\n",
       "      <td>0.0</td>\n",
       "      <td>0.0</td>\n",
       "      <td>0.0</td>\n",
       "      <td>0.0</td>\n",
       "      <td>...</td>\n",
       "      <td>0.0</td>\n",
       "      <td>0.0</td>\n",
       "      <td>0.0</td>\n",
       "      <td>0.0</td>\n",
       "      <td>0.0</td>\n",
       "      <td>0.0</td>\n",
       "      <td>0.0</td>\n",
       "      <td>0.0</td>\n",
       "      <td>0.0</td>\n",
       "      <td>0.0</td>\n",
       "    </tr>\n",
       "    <tr>\n",
       "      <th>SOAACSG12AB018DC80</th>\n",
       "      <td>0.0</td>\n",
       "      <td>0.0</td>\n",
       "      <td>0.0</td>\n",
       "      <td>0.0</td>\n",
       "      <td>0.0</td>\n",
       "      <td>0.0</td>\n",
       "      <td>0.0</td>\n",
       "      <td>0.0</td>\n",
       "      <td>0.0</td>\n",
       "      <td>0.0</td>\n",
       "      <td>...</td>\n",
       "      <td>0.0</td>\n",
       "      <td>0.0</td>\n",
       "      <td>0.0</td>\n",
       "      <td>0.0</td>\n",
       "      <td>0.0</td>\n",
       "      <td>0.0</td>\n",
       "      <td>0.0</td>\n",
       "      <td>0.0</td>\n",
       "      <td>0.0</td>\n",
       "      <td>0.0</td>\n",
       "    </tr>\n",
       "    <tr>\n",
       "      <th>SOAAEJI12AB0188AB5</th>\n",
       "      <td>0.0</td>\n",
       "      <td>0.0</td>\n",
       "      <td>0.0</td>\n",
       "      <td>0.0</td>\n",
       "      <td>0.0</td>\n",
       "      <td>0.0</td>\n",
       "      <td>0.0</td>\n",
       "      <td>0.0</td>\n",
       "      <td>0.0</td>\n",
       "      <td>0.0</td>\n",
       "      <td>...</td>\n",
       "      <td>0.0</td>\n",
       "      <td>0.0</td>\n",
       "      <td>0.0</td>\n",
       "      <td>0.0</td>\n",
       "      <td>0.0</td>\n",
       "      <td>0.0</td>\n",
       "      <td>0.0</td>\n",
       "      <td>0.0</td>\n",
       "      <td>0.0</td>\n",
       "      <td>0.0</td>\n",
       "    </tr>\n",
       "    <tr>\n",
       "      <th>SOAAFAC12A67ADF7EB</th>\n",
       "      <td>0.0</td>\n",
       "      <td>0.0</td>\n",
       "      <td>0.0</td>\n",
       "      <td>0.0</td>\n",
       "      <td>0.0</td>\n",
       "      <td>0.0</td>\n",
       "      <td>0.0</td>\n",
       "      <td>0.0</td>\n",
       "      <td>0.0</td>\n",
       "      <td>0.0</td>\n",
       "      <td>...</td>\n",
       "      <td>0.0</td>\n",
       "      <td>0.0</td>\n",
       "      <td>0.0</td>\n",
       "      <td>0.0</td>\n",
       "      <td>0.0</td>\n",
       "      <td>0.0</td>\n",
       "      <td>0.0</td>\n",
       "      <td>0.0</td>\n",
       "      <td>0.0</td>\n",
       "      <td>0.0</td>\n",
       "    </tr>\n",
       "  </tbody>\n",
       "</table>\n",
       "<p>5 rows × 36561 columns</p>\n",
       "</div>"
      ],
      "text/plain": [
       "user_id             000e2c2a8c7870ff9121f212b35c8b3a20cc0e67  \\\n",
       "song_id                                                        \n",
       "SOAAAGQ12A8C1420C8                                       0.0   \n",
       "SOAACPJ12A81C21360                                       0.0   \n",
       "SOAACSG12AB018DC80                                       0.0   \n",
       "SOAAEJI12AB0188AB5                                       0.0   \n",
       "SOAAFAC12A67ADF7EB                                       0.0   \n",
       "\n",
       "user_id             000ebc858861aca26bac9b49f650ed424cf882fc  \\\n",
       "song_id                                                        \n",
       "SOAAAGQ12A8C1420C8                                       0.0   \n",
       "SOAACPJ12A81C21360                                       0.0   \n",
       "SOAACSG12AB018DC80                                       0.0   \n",
       "SOAAEJI12AB0188AB5                                       0.0   \n",
       "SOAAFAC12A67ADF7EB                                       0.0   \n",
       "\n",
       "user_id             000ef25cc955ad5841c915d269432eea41f4a1a5  \\\n",
       "song_id                                                        \n",
       "SOAAAGQ12A8C1420C8                                       0.0   \n",
       "SOAACPJ12A81C21360                                       0.0   \n",
       "SOAACSG12AB018DC80                                       0.0   \n",
       "SOAAEJI12AB0188AB5                                       0.0   \n",
       "SOAAFAC12A67ADF7EB                                       0.0   \n",
       "\n",
       "user_id             0012bf75d43a724f62dc746d9e85ae0088a3a1d6  \\\n",
       "song_id                                                        \n",
       "SOAAAGQ12A8C1420C8                                       0.0   \n",
       "SOAACPJ12A81C21360                                       0.0   \n",
       "SOAACSG12AB018DC80                                       0.0   \n",
       "SOAAEJI12AB0188AB5                                       0.0   \n",
       "SOAAFAC12A67ADF7EB                                       0.0   \n",
       "\n",
       "user_id             001322829b5dc3edc59bf78189617ddd8f23c82a  \\\n",
       "song_id                                                        \n",
       "SOAAAGQ12A8C1420C8                                       0.0   \n",
       "SOAACPJ12A81C21360                                       0.0   \n",
       "SOAACSG12AB018DC80                                       0.0   \n",
       "SOAAEJI12AB0188AB5                                       0.0   \n",
       "SOAAFAC12A67ADF7EB                                       0.0   \n",
       "\n",
       "user_id             00185e316f07f0f00c325ca034be59c15b362401  \\\n",
       "song_id                                                        \n",
       "SOAAAGQ12A8C1420C8                                       0.0   \n",
       "SOAACPJ12A81C21360                                       0.0   \n",
       "SOAACSG12AB018DC80                                       0.0   \n",
       "SOAAEJI12AB0188AB5                                       0.0   \n",
       "SOAAFAC12A67ADF7EB                                       0.0   \n",
       "\n",
       "user_id             0019740e3e8c24e223a6f88e3faa7c144ec5a014  \\\n",
       "song_id                                                        \n",
       "SOAAAGQ12A8C1420C8                                       0.0   \n",
       "SOAACPJ12A81C21360                                       0.0   \n",
       "SOAACSG12AB018DC80                                       0.0   \n",
       "SOAAEJI12AB0188AB5                                       0.0   \n",
       "SOAAFAC12A67ADF7EB                                       0.0   \n",
       "\n",
       "user_id             001b005fe5e80d3cb45f320f5658fc8e2e72794e  \\\n",
       "song_id                                                        \n",
       "SOAAAGQ12A8C1420C8                                       0.0   \n",
       "SOAACPJ12A81C21360                                       0.0   \n",
       "SOAACSG12AB018DC80                                       0.0   \n",
       "SOAAEJI12AB0188AB5                                       0.0   \n",
       "SOAAFAC12A67ADF7EB                                       0.0   \n",
       "\n",
       "user_id             001f22c638730aed5659034c447d3cf0e658898e  \\\n",
       "song_id                                                        \n",
       "SOAAAGQ12A8C1420C8                                       0.0   \n",
       "SOAACPJ12A81C21360                                       0.0   \n",
       "SOAACSG12AB018DC80                                       0.0   \n",
       "SOAAEJI12AB0188AB5                                       0.0   \n",
       "SOAAFAC12A67ADF7EB                                       0.0   \n",
       "\n",
       "user_id             0021d9a4628624f6d70237f9c200ab82e766bf26  ...  \\\n",
       "song_id                                                       ...   \n",
       "SOAAAGQ12A8C1420C8                                       0.0  ...   \n",
       "SOAACPJ12A81C21360                                       0.0  ...   \n",
       "SOAACSG12AB018DC80                                       0.0  ...   \n",
       "SOAAEJI12AB0188AB5                                       0.0  ...   \n",
       "SOAAFAC12A67ADF7EB                                       0.0  ...   \n",
       "\n",
       "user_id             fff300cd094fe04030b79fae550dc9d065190182  \\\n",
       "song_id                                                        \n",
       "SOAAAGQ12A8C1420C8                                       0.0   \n",
       "SOAACPJ12A81C21360                                       0.0   \n",
       "SOAACSG12AB018DC80                                       0.0   \n",
       "SOAAEJI12AB0188AB5                                       0.0   \n",
       "SOAAFAC12A67ADF7EB                                       0.0   \n",
       "\n",
       "user_id             fff4676dacb2e9a7217702f62ee70e88aa512ecc  \\\n",
       "song_id                                                        \n",
       "SOAAAGQ12A8C1420C8                                       0.0   \n",
       "SOAACPJ12A81C21360                                       0.0   \n",
       "SOAACSG12AB018DC80                                       0.0   \n",
       "SOAAEJI12AB0188AB5                                       0.0   \n",
       "SOAAFAC12A67ADF7EB                                       0.0   \n",
       "\n",
       "user_id             fff4e1a7dacbe9c13051c08f09bf66d76cbee35e  \\\n",
       "song_id                                                        \n",
       "SOAAAGQ12A8C1420C8                                       0.0   \n",
       "SOAACPJ12A81C21360                                       0.0   \n",
       "SOAACSG12AB018DC80                                       0.0   \n",
       "SOAAEJI12AB0188AB5                                       0.0   \n",
       "SOAAFAC12A67ADF7EB                                       0.0   \n",
       "\n",
       "user_id             fff543db7918cb8f4f56f7470903eb2f1d5a6dd8  \\\n",
       "song_id                                                        \n",
       "SOAAAGQ12A8C1420C8                                       0.0   \n",
       "SOAACPJ12A81C21360                                       0.0   \n",
       "SOAACSG12AB018DC80                                       0.0   \n",
       "SOAAEJI12AB0188AB5                                       0.0   \n",
       "SOAAFAC12A67ADF7EB                                       0.0   \n",
       "\n",
       "user_id             fff6c30c773e6ffafcac213c9afd9666afaf6d63  \\\n",
       "song_id                                                        \n",
       "SOAAAGQ12A8C1420C8                                       0.0   \n",
       "SOAACPJ12A81C21360                                       0.0   \n",
       "SOAACSG12AB018DC80                                       0.0   \n",
       "SOAAEJI12AB0188AB5                                       0.0   \n",
       "SOAAFAC12A67ADF7EB                                       0.0   \n",
       "\n",
       "user_id             fffb701ee87a32eff67eb040ed59146121f01571  \\\n",
       "song_id                                                        \n",
       "SOAAAGQ12A8C1420C8                                       0.0   \n",
       "SOAACPJ12A81C21360                                       0.0   \n",
       "SOAACSG12AB018DC80                                       0.0   \n",
       "SOAAEJI12AB0188AB5                                       0.0   \n",
       "SOAAFAC12A67ADF7EB                                       0.0   \n",
       "\n",
       "user_id             fffc0df75a48d823ad5abfaf2a1ee61eb1e3302c  \\\n",
       "song_id                                                        \n",
       "SOAAAGQ12A8C1420C8                                       0.0   \n",
       "SOAACPJ12A81C21360                                       0.0   \n",
       "SOAACSG12AB018DC80                                       0.0   \n",
       "SOAAEJI12AB0188AB5                                       0.0   \n",
       "SOAAFAC12A67ADF7EB                                       0.0   \n",
       "\n",
       "user_id             fffce9c1537fbc350ea68823d956eaa8f5236dbe  \\\n",
       "song_id                                                        \n",
       "SOAAAGQ12A8C1420C8                                       0.0   \n",
       "SOAACPJ12A81C21360                                       0.0   \n",
       "SOAACSG12AB018DC80                                       0.0   \n",
       "SOAAEJI12AB0188AB5                                       0.0   \n",
       "SOAAFAC12A67ADF7EB                                       0.0   \n",
       "\n",
       "user_id             fffd9635b33f412de8ed02e44e6564e3644cf3c6  \\\n",
       "song_id                                                        \n",
       "SOAAAGQ12A8C1420C8                                       0.0   \n",
       "SOAACPJ12A81C21360                                       0.0   \n",
       "SOAACSG12AB018DC80                                       0.0   \n",
       "SOAAEJI12AB0188AB5                                       0.0   \n",
       "SOAAFAC12A67ADF7EB                                       0.0   \n",
       "\n",
       "user_id             fffea3d509760c984e7d40789804c0e5e289cc86  \n",
       "song_id                                                       \n",
       "SOAAAGQ12A8C1420C8                                       0.0  \n",
       "SOAACPJ12A81C21360                                       0.0  \n",
       "SOAACSG12AB018DC80                                       0.0  \n",
       "SOAAEJI12AB0188AB5                                       0.0  \n",
       "SOAAFAC12A67ADF7EB                                       0.0  \n",
       "\n",
       "[5 rows x 36561 columns]"
      ]
     },
     "execution_count": 89,
     "metadata": {},
     "output_type": "execute_result"
    }
   ],
   "source": [
    "df_songs_features.head()"
   ]
  },
  {
   "cell_type": "markdown",
   "metadata": {},
   "source": [
    "Because the system will output the id of the song, instead of the title, we'll make a function that maps those indices with the song title."
   ]
  },
  {
   "cell_type": "code",
   "execution_count": 90,
   "metadata": {},
   "outputs": [],
   "source": [
    "df_unique_songs = df_songs.drop_duplicates(subset=['song_id']).reset_index(drop=True)[['song_id', 'title']]"
   ]
  },
  {
   "cell_type": "code",
   "execution_count": 91,
   "metadata": {},
   "outputs": [],
   "source": [
    "decode_id_song = {\n",
    "    song: i for i, song in \n",
    "    enumerate(list(df_unique_songs.set_index('song_id').loc[df_songs_features.index].title))\n",
    "}"
   ]
  },
  {
   "cell_type": "markdown",
   "metadata": {},
   "source": [
    "### Model and recommendations"
   ]
  },
  {
   "cell_type": "markdown",
   "metadata": {},
   "source": [
    "So, we know that we want to use the model to predict songs. For that, we'll use the `Recommender` class wrote in the `knn_recommender` file."
   ]
  },
  {
   "cell_type": "code",
   "execution_count": 92,
   "metadata": {},
   "outputs": [],
   "source": [
    "model = Recommender(metric='cosine', algorithm='brute', k=20, data=mat_songs_features, decode_id_song=decode_id_song)"
   ]
  },
  {
   "cell_type": "code",
   "execution_count": 93,
   "metadata": {},
   "outputs": [],
   "source": [
    "song = 'I believe in miracles'"
   ]
  },
  {
   "cell_type": "code",
   "execution_count": 94,
   "metadata": {},
   "outputs": [
    {
     "name": "stdout",
     "output_type": "stream",
     "text": [
      "Starting the recommendation process for I believe in miracles ...\n",
      "... Done\n"
     ]
    }
   ],
   "source": [
    "new_recommendations = model.make_recommendation(new_song=song, n_recommendations=10)"
   ]
  },
  {
   "cell_type": "code",
   "execution_count": 95,
   "metadata": {},
   "outputs": [
    {
     "name": "stdout",
     "output_type": "stream",
     "text": [
      "The recommendations for I believe in miracles are:\n",
      "['Nine Million Bicycles', 'If You Were A Sailboat', 'Shy Boy', 'I Cried For You', \"Spider's Web\", 'Piece By Piece', 'On The Road Again', 'Blues In The Night', 'Blue Shoes', 'Thank You Stars']\n"
     ]
    }
   ],
   "source": [
    "print(f\"The recommendations for {song} are:\")\n",
    "print(f\"{new_recommendations}\")"
   ]
  }
 ],
 "metadata": {
  "kernelspec": {
   "display_name": "Python 3",
   "language": "python",
   "name": "python3"
  },
  "language_info": {
   "codemirror_mode": {
    "name": "ipython",
    "version": 3
   },
   "file_extension": ".py",
   "mimetype": "text/x-python",
   "name": "python",
   "nbconvert_exporter": "python",
   "pygments_lexer": "ipython3",
   "version": "3.8.8"
  }
 },
 "nbformat": 4,
 "nbformat_minor": 4
}
